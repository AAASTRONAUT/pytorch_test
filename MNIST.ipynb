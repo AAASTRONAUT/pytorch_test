{
 "cells": [
  {
   "cell_type": "code",
   "execution_count": 55,
   "metadata": {},
   "outputs": [],
   "source": [
    "import matplotlib.pyplot as plt\n",
    "import torch\n",
    "import torchvision\n",
    "from torchvision import transforms , datasets\n",
    "import torch.nn as nn\n",
    "import torch.nn.functional as f\n",
    "import torch.optim as optim"
   ]
  },
  {
   "cell_type": "code",
   "execution_count": 56,
   "metadata": {},
   "outputs": [],
   "source": [
    "train = datasets.MNIST(\"\" , \n",
    "                       train = True  , \n",
    "                       download = True , \n",
    "                       transform = transforms.Compose([transforms.ToTensor()]))\n",
    "\n",
    "test = datasets.MNIST(\"\" , \n",
    "                      train = False  , \n",
    "                      download = True , \n",
    "                      transform = transforms.Compose([transforms.ToTensor()]))\n"
   ]
  },
  {
   "cell_type": "code",
   "execution_count": 64,
   "metadata": {},
   "outputs": [],
   "source": [
    "trainset = torch.utils.data.DataLoader(train , batch_size=10)\n",
    "testset = torch.utils.data.DataLoader(test , batch_size=10)"
   ]
  },
  {
   "cell_type": "code",
   "execution_count": 60,
   "metadata": {},
   "outputs": [],
   "source": [
    "class network(nn.Module):\n",
    "    def __init__(self , input_dim=28*28 , l1_dim=64 , l2_dim=64 , l3_dim=64 , output_dim=10):\n",
    "        super().__init__()\n",
    "        self.l1 = nn.Linear(input_dim , l1_dim)\n",
    "        self.l2 = nn.Linear(l1_dim , l2_dim)\n",
    "        self.l3 = nn.Linear(l2_dim , l3_dim)\n",
    "        self.l4 = nn.Linear(l3_dim , output_dim)\n",
    "    def forward(self , x):\n",
    "        x = f.relu(self.l1(x))\n",
    "        x = f.relu(self.l2(x))\n",
    "        x = f.relu(self.l3(x))\n",
    "        x = f.log_softmax(self.l4(x) , dim = 1)\n",
    "        return x"
   ]
  },
  {
   "cell_type": "code",
   "execution_count": 84,
   "metadata": {},
   "outputs": [
    {
     "name": "stdout",
     "output_type": "stream",
     "text": [
      "loss after 1 epocs: 0.118979\n",
      "loss after 2 epocs: 0.064681\n",
      "loss after 3 epocs: 0.044179\n",
      "loss after 4 epocs: 0.032909\n",
      "loss after 5 epocs: 0.025915\n",
      "loss after 6 epocs: 0.020077\n",
      "loss after 7 epocs: 0.014157\n",
      "loss after 8 epocs: 0.010194\n",
      "loss after 9 epocs: 0.007631\n",
      "loss after 10 epocs: 0.005978\n"
     ]
    }
   ],
   "source": [
    "net = network()\n",
    "#backtracking\n",
    "optimizer = optim.Adam(net.parameters() , lr = 0.0001)\n",
    "epocs = 10\n",
    "\n",
    "for epoc in range(epocs):\n",
    "    for data in trainset:\n",
    "        x , y = data\n",
    "        net.zero_grad()\n",
    "        out = net(x.view(-1 , 28*28))\n",
    "        loss = f.nll_loss(out , y)\n",
    "        loss.backward()\n",
    "        optimizer.step()\n",
    "    print(f'loss after {epoc+1} epocs: {round(loss.item() , 6)}')"
   ]
  },
  {
   "cell_type": "code",
   "execution_count": 92,
   "metadata": {},
   "outputs": [
    {
     "name": "stdout",
     "output_type": "stream",
     "text": [
      "Trainset Accuracy: 97.203\n",
      "Testset Accuracy: 96.41\n"
     ]
    }
   ],
   "source": [
    "#calculating accuracy\n",
    "correct = 0\n",
    "total = 0\n",
    "for data in trainset:\n",
    "    x , y = data\n",
    "    net.zero_grad()\n",
    "    out = net(x.view(-1 , 28*28))\n",
    "    for id , i in enumerate(out):\n",
    "        if torch.argmax(i) == y[id]:\n",
    "            correct+=1\n",
    "        total+=1\n",
    "\n",
    "print(f'Trainset Accuracy: {round(correct/total*100 , 3)}')\n",
    "\n",
    "correct = 0\n",
    "total = 0\n",
    "for data in testset:\n",
    "    x , y = data\n",
    "    net.zero_grad()\n",
    "    out = net(x.view(-1 , 28*28))\n",
    "    for id , i in enumerate(out):\n",
    "        if torch.argmax(i) == y[id]:\n",
    "            correct+=1\n",
    "        total+=1\n",
    "\n",
    "print(f'Testset Accuracy: {round(correct/total*100 , 3)}')"
   ]
  },
  {
   "cell_type": "code",
   "execution_count": null,
   "metadata": {},
   "outputs": [],
   "source": []
  },
  {
   "cell_type": "code",
   "execution_count": null,
   "metadata": {},
   "outputs": [],
   "source": []
  }
 ],
 "metadata": {
  "kernelspec": {
   "display_name": "Python 3",
   "language": "python",
   "name": "python3"
  },
  "language_info": {
   "codemirror_mode": {
    "name": "ipython",
    "version": 3
   },
   "file_extension": ".py",
   "mimetype": "text/x-python",
   "name": "python",
   "nbconvert_exporter": "python",
   "pygments_lexer": "ipython3",
   "version": "3.11.5"
  },
  "orig_nbformat": 4
 },
 "nbformat": 4,
 "nbformat_minor": 2
}
