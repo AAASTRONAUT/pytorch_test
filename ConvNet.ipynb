{
 "cells": [
  {
   "cell_type": "code",
   "execution_count": 1,
   "metadata": {},
   "outputs": [],
   "source": [
    "import os\n",
    "import numpy as np\n",
    "import pandas as pd\n",
    "import cv2\n",
    "from tqdm import tqdm\n",
    "import torch\n",
    "import torch.nn as nn\n",
    "import torch.nn.functional as F\n",
    "import torch.optim as optim\n",
    "import matplotlib.pyplot as plt"
   ]
  },
  {
   "cell_type": "markdown",
   "metadata": {},
   "source": [
    "preprocessing the dataset into one hot encoded list"
   ]
  },
  {
   "cell_type": "code",
   "execution_count": 2,
   "metadata": {},
   "outputs": [],
   "source": [
    "rebuild_data = True\n",
    "if(os.path.exists(\"Training_set.npy\")):\n",
    "    rebuild_data = False\n",
    "\n",
    "class Preprocess():\n",
    "    Img_size = 50\n",
    "    cats = \"PetImages/Cat\"\n",
    "    dogs = \"PetImages/Dog\"\n",
    "    Train_set = []\n",
    "    labels = {cats:0 , dogs:1}\n",
    "    count_cats = 0\n",
    "    count_dogs = 0\n",
    "    def make_train_set(self):\n",
    "        for label in self.labels:\n",
    "            for f in tqdm(os.listdir(label)):\n",
    "                try:\n",
    "                    path = os.path.join(label , f)\n",
    "                    img = cv2.imread(path , cv2.IMREAD_GRAYSCALE)\n",
    "                    img = cv2.resize(img , (self.Img_size , self.Img_size))\n",
    "                    img_label = np.eye(2)[self.labels[label]]\n",
    "                    self.Train_set.append([np.array(img) , img_label])\n",
    "                    if label == self.cats:\n",
    "                        self.count_cats+=1\n",
    "                    elif label == self.dogs:\n",
    "                        self.count_dogs += 1\n",
    "                except Exception as e:\n",
    "                    pass\n",
    "\n",
    "        np.random.shuffle(self.Train_set)\n",
    "        self.Train_set = np.asarray(self.Train_set , dtype = object)\n",
    "        np.save(\"Training_set.npy\" , self.Train_set)\n",
    "        print(\"Cats:\" , self.count_cats)\n",
    "        print(\"Dogs:\" , self.count_dogs)\n",
    "\n",
    "if rebuild_data:\n",
    "    preprocess = Preprocess()\n",
    "    preprocess.make_train_set()"
   ]
  },
  {
   "cell_type": "code",
   "execution_count": 3,
   "metadata": {},
   "outputs": [],
   "source": [
    "training_set = np.load(\"Training_set.npy\" , allow_pickle=True)"
   ]
  },
  {
   "cell_type": "code",
   "execution_count": 4,
   "metadata": {},
   "outputs": [],
   "source": [
    "class Net(nn.Module):\n",
    "    def __init__(self ):\n",
    "        super().__init__()\n",
    "        self.conv1 = nn.Conv2d(1 , 32 , kernel_size=5)\n",
    "        self.conv2 = nn.Conv2d(32 , 64 , kernel_size=5)\n",
    "        self.conv3 = nn.Conv2d(64 , 128 , kernel_size=5)\n",
    "\n",
    "        self.flatten_dim = None\n",
    "        ##definig a temp x to get the flatten dimensions after a forward pass\n",
    "        x = torch.randn(50 , 50).view(-1 , 1 , 50 , 50)\n",
    "        self.convf(x)\n",
    "\n",
    "        self.fc1 = nn.Linear(self.flatten_dim , 512)\n",
    "        self.fc2 = nn.Linear(512 , 2)\n",
    "        \n",
    "\n",
    "    def convf(self , x ):\n",
    "        x = F.max_pool2d(F.relu(self.conv1(x)) , (2 , 2))\n",
    "        x = F.max_pool2d(F.relu(self.conv2(x)) , (2 , 2))\n",
    "        x = F.max_pool2d(F.relu(self.conv3(x)) , (2 , 2))\n",
    "\n",
    "        if self.flatten_dim == None:\n",
    "            self.flatten_dim = x[0].shape[0]*x[0].shape[1]*x[0].shape[2]\n",
    "\n",
    "        return x\n",
    "\n",
    "    def forward(self , x):\n",
    "        x = self.convf(x)\n",
    "        x = x.view(-1 , self.flatten_dim)\n",
    "        \n",
    "        x = F.relu(self.fc1(x))\n",
    "        x = self.fc2(x)\n",
    "\n",
    "        return F.softmax(x ,dim = 1 )\n",
    "\n",
    "net = Net()"
   ]
  },
  {
   "cell_type": "code",
   "execution_count": 5,
   "metadata": {},
   "outputs": [],
   "source": [
    "training_set_x = torch.tensor(np.array([i[0] for i in training_set])).view(-1 , 50 , 50)\n",
    "training_set_x = training_set_x/255.0\n",
    "training_set_y = torch.tensor(np.array([i[1] for i in training_set]))\n",
    "\n",
    "val_percent = 0.1\n",
    "val_size = int(val_percent*len(training_set_x))\n",
    "\n",
    "train_set_x = training_set_x[:-val_size]\n",
    "train_set_y = training_set_y[:-val_size]\n",
    "\n",
    "val_set_x = training_set_x[-val_size:]\n",
    "val_set_y = training_set_y[-val_size:]"
   ]
  },
  {
   "cell_type": "code",
   "execution_count": 6,
   "metadata": {},
   "outputs": [],
   "source": [
    "BATCH_SIZE = 10\n",
    "EPOCS = 5\n",
    "LEARNING_RATE = 0.001\n",
    "\n",
    "optimizer = optim.Adam(net.parameters() , LEARNING_RATE)\n",
    "loss_function = nn.MSELoss()\n",
    "\n",
    "def train(net):\n",
    "    for epoc in range(EPOCS):\n",
    "        for i in tqdm(range(0 , len(train_set_x) , BATCH_SIZE)):\n",
    "            x = train_set_x[i:i+BATCH_SIZE].view(-1 , 1 , 50 , 50).float()\n",
    "            y = train_set_y[i:i+BATCH_SIZE].float()\n",
    "            net.zero_grad()\n",
    "            output = net(x)\n",
    "            loss = loss_function(output, y)\n",
    "            loss.backward()\n",
    "            optimizer.step()\n",
    "        print(f\"loss after {epoc+1} iterations: {loss}\")"
   ]
  },
  {
   "cell_type": "code",
   "execution_count": 7,
   "metadata": {},
   "outputs": [],
   "source": [
    "def test(net):\n",
    "    correct = 0\n",
    "    total = 0   \n",
    "    with torch.no_grad():\n",
    "        for i in tqdm(range(len(val_set_x))):\n",
    "            actual_class = torch.argmax(val_set_y[i])\n",
    "            predicted_class = torch.argmax(net(val_set_x[i].view(-1 , 1 , 50 , 50)))\n",
    "            if predicted_class==actual_class:\n",
    "                correct +=1\n",
    "            total+=1\n",
    "    print(f'Accuracy on test set: {round(correct/total*100 , 3)}')"
   ]
  },
  {
   "cell_type": "code",
   "execution_count": 8,
   "metadata": {},
   "outputs": [
    {
     "name": "stderr",
     "output_type": "stream",
     "text": [
      "  0%|          | 0/2246 [00:00<?, ?it/s]"
     ]
    },
    {
     "name": "stderr",
     "output_type": "stream",
     "text": [
      "100%|██████████| 2246/2246 [00:25<00:00, 88.45it/s]\n"
     ]
    },
    {
     "name": "stdout",
     "output_type": "stream",
     "text": [
      "loss after 1 iterations: 0.2704133987426758\n"
     ]
    },
    {
     "name": "stderr",
     "output_type": "stream",
     "text": [
      "100%|██████████| 2246/2246 [00:25<00:00, 87.98it/s]\n"
     ]
    },
    {
     "name": "stdout",
     "output_type": "stream",
     "text": [
      "loss after 2 iterations: 0.3610239028930664\n"
     ]
    },
    {
     "name": "stderr",
     "output_type": "stream",
     "text": [
      "100%|██████████| 2246/2246 [00:26<00:00, 84.27it/s]\n"
     ]
    },
    {
     "name": "stdout",
     "output_type": "stream",
     "text": [
      "loss after 3 iterations: 0.4827135503292084\n"
     ]
    },
    {
     "name": "stderr",
     "output_type": "stream",
     "text": [
      "100%|██████████| 2246/2246 [00:25<00:00, 86.66it/s]\n"
     ]
    },
    {
     "name": "stdout",
     "output_type": "stream",
     "text": [
      "loss after 4 iterations: 0.409868985414505\n"
     ]
    },
    {
     "name": "stderr",
     "output_type": "stream",
     "text": [
      "100%|██████████| 2246/2246 [00:25<00:00, 88.77it/s]"
     ]
    },
    {
     "name": "stdout",
     "output_type": "stream",
     "text": [
      "loss after 5 iterations: 0.4454355239868164\n"
     ]
    },
    {
     "name": "stderr",
     "output_type": "stream",
     "text": [
      "\n"
     ]
    }
   ],
   "source": [
    "train(net)"
   ]
  },
  {
   "cell_type": "code",
   "execution_count": 9,
   "metadata": {},
   "outputs": [
    {
     "name": "stderr",
     "output_type": "stream",
     "text": [
      "100%|██████████| 2494/2494 [00:02<00:00, 1154.10it/s]"
     ]
    },
    {
     "name": "stdout",
     "output_type": "stream",
     "text": [
      "Accuracy on test set: 73.617\n"
     ]
    },
    {
     "name": "stderr",
     "output_type": "stream",
     "text": [
      "\n"
     ]
    }
   ],
   "source": [
    "test(net)"
   ]
  },
  {
   "cell_type": "code",
   "execution_count": 10,
   "metadata": {},
   "outputs": [],
   "source": [
    "def forw_pass(x , y , train = False):\n",
    "    if train:\n",
    "        net.zero_grad()\n",
    "    try:\n",
    "        output = net(x.view(-1 , 1, 50 , 50))\n",
    "        matches = [torch.argmax(i)==torch.argmax(j) for i , j in zip(y , output)]\n",
    "        accuracy = matches.count(True)/len(matches)*100\n",
    "        if train:\n",
    "            loss = loss_function(output , y)\n",
    "            loss.backward()\n",
    "            optimizer.step()\n",
    "\n",
    "        print(f\"Accuracy: {accuracy}\")\n",
    "    except Exception as e:\n",
    "        print(\"Wrong image dimensions!!\")"
   ]
  },
  {
   "cell_type": "code",
   "execution_count": 11,
   "metadata": {},
   "outputs": [
    {
     "name": "stdout",
     "output_type": "stream",
     "text": [
      "Accuracy: 73.61668003207699\n"
     ]
    }
   ],
   "source": [
    "forw_pass(val_set_x , val_set_y)"
   ]
  },
  {
   "cell_type": "markdown",
   "metadata": {},
   "source": [
    "<h2>Test on your own image</h2>"
   ]
  },
  {
   "cell_type": "code",
   "execution_count": 33,
   "metadata": {},
   "outputs": [
    {
     "name": "stdout",
     "output_type": "stream",
     "text": [
      "Dog\n"
     ]
    }
   ],
   "source": [
    "def predictCatOrDog(path):\n",
    "    img = cv2.imread(path , cv2.IMREAD_GRAYSCALE)\n",
    "    img = cv2.resize(img , (50 , 50))\n",
    "\n",
    "    img = torch.tensor(img).view(-1 , 1 , 50 , 50)\n",
    "    img = img/255.0\n",
    "\n",
    "    prediction = torch.argmax(net(img))\n",
    "    if prediction==0:\n",
    "        print(\"cat\")\n",
    "    else:\n",
    "        print(\"Dog\")\n",
    "\n",
    "predictCatOrDog(\"Your image\")"
   ]
  },
  {
   "cell_type": "code",
   "execution_count": null,
   "metadata": {},
   "outputs": [],
   "source": []
  }
 ],
 "metadata": {
  "kernelspec": {
   "display_name": "Python 3",
   "language": "python",
   "name": "python3"
  },
  "language_info": {
   "codemirror_mode": {
    "name": "ipython",
    "version": 3
   },
   "file_extension": ".py",
   "mimetype": "text/x-python",
   "name": "python",
   "nbconvert_exporter": "python",
   "pygments_lexer": "ipython3",
   "version": "3.11.5"
  },
  "orig_nbformat": 4
 },
 "nbformat": 4,
 "nbformat_minor": 2
}
