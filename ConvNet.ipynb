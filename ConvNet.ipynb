{
 "cells": [
  {
   "cell_type": "code",
   "execution_count": 45,
   "metadata": {},
   "outputs": [],
   "source": [
    "import os\n",
    "import numpy as np\n",
    "import pandas as pd\n",
    "import cv2\n",
    "from tqdm import tqdm\n",
    "import torch.nn as nn\n",
    "import torch.functional as F\n",
    "import torch.optim as optim"
   ]
  },
  {
   "cell_type": "markdown",
   "metadata": {},
   "source": [
    "preprocessing the dataset into one hot encoded list"
   ]
  },
  {
   "cell_type": "code",
   "execution_count": 40,
   "metadata": {},
   "outputs": [],
   "source": [
    "rebuild_data = True\n",
    "if(os.path.exists(\"Training_set.npy\")):\n",
    "    rebuild_data = False\n",
    "\n",
    "class Preprocess():\n",
    "    Img_size = 50\n",
    "    cats = \"PetImages/Cat\"\n",
    "    dogs = \"PetImages/Dog\"\n",
    "    Train_set = []\n",
    "    labels = {cats:0 , dogs:1}\n",
    "    count_cats = 0\n",
    "    count_dogs = 0\n",
    "    def make_train_set(self):\n",
    "        for label in self.labels:\n",
    "            for f in tqdm(os.listdir(label)):\n",
    "                try:\n",
    "                    path = os.path.join(label , f)\n",
    "                    img = cv2.imread(path , cv2.IMREAD_GRAYSCALE)\n",
    "                    img = cv2.resize(img , (self.Img_size , self.Img_size))\n",
    "                    img_label = np.eye(2)[self.labels[label]]\n",
    "                    self.Train_set.append([img , img_label])\n",
    "                    if label == self.cats:\n",
    "                        self.count_cats+=1\n",
    "                    elif label == self.dogs:\n",
    "                        self.count_dogs += 1\n",
    "                except Exception as e:\n",
    "                    pass\n",
    "\n",
    "        np.random.shuffle(self.Train_set)\n",
    "        self.Train_set = np.asarray(self.Train_set , dtype = object)\n",
    "        np.save(\"Training_set.npy\" , self.Train_set)\n",
    "        print(\"Cats:\" , self.count_cats)\n",
    "        print(\"Dogs:\" , self.count_dogs)\n",
    "\n",
    "if rebuild_data:\n",
    "    preprocess = Preprocess()\n",
    "    preprocess.make_train_set()"
   ]
  },
  {
   "cell_type": "code",
   "execution_count": 42,
   "metadata": {},
   "outputs": [],
   "source": [
    "training_set = np.load(\"Training_set.npy\" , allow_pickle=True)"
   ]
  },
  {
   "cell_type": "code",
   "execution_count": null,
   "metadata": {},
   "outputs": [],
   "source": []
  },
  {
   "cell_type": "code",
   "execution_count": null,
   "metadata": {},
   "outputs": [],
   "source": []
  },
  {
   "cell_type": "code",
   "execution_count": null,
   "metadata": {},
   "outputs": [],
   "source": []
  }
 ],
 "metadata": {
  "kernelspec": {
   "display_name": "Python 3",
   "language": "python",
   "name": "python3"
  },
  "language_info": {
   "codemirror_mode": {
    "name": "ipython",
    "version": 3
   },
   "file_extension": ".py",
   "mimetype": "text/x-python",
   "name": "python",
   "nbconvert_exporter": "python",
   "pygments_lexer": "ipython3",
   "version": "3.11.5"
  },
  "orig_nbformat": 4
 },
 "nbformat": 4,
 "nbformat_minor": 2
}
